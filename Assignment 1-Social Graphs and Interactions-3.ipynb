{
 "cells": [
  {
   "cell_type": "code",
   "execution_count": null,
   "id": "44b9edd2-3d29-427e-b039-b147b76d4f0f",
   "metadata": {},
   "outputs": [],
   "source": [
    "#Assignment 1: 02805 Social graphs and interactions \n",
    "Group 65:\n",
    "s226625 - Emma Rebner "
   ]
  },
  {
   "cell_type": "code",
   "execution_count": null,
   "id": "5bf43377-2e3d-40c0-8768-7df734af115f",
   "metadata": {},
   "outputs": [],
   "source": [
    "#Assignment 1.1"
   ]
  },
  {
   "cell_type": "code",
   "execution_count": null,
   "id": "500812db-78b5-4150-a016-1e83562fd436",
   "metadata": {},
   "outputs": [],
   "source": [
    "#===Exercises: Did you really read the text?===#\n",
    "\n",
    "# 1) What's the problem with random networks as a model for real-world networks according to the argument in section 3.5 (near the end)?\n",
    "\n",
    "ANSWER: \n",
    "Random networks fail as a model of real networks because they predict a narrow degree distribution, \n",
    "where all nodes have about the same number of links, whereas real networks show wide variability with both low-degree \n",
    "nodes and highly connected hubs.\n"
   ]
  },
  {
   "cell_type": "code",
   "execution_count": null,
   "id": "d77fb7d2-7c1c-49cd-bcd1-0e5342355608",
   "metadata": {},
   "outputs": [],
   "source": [
    "#===Exercises: Did you really read the text?===#\n",
    "\n",
    "# 2) List the four regimes that characterize random networks as a function of.\n",
    "    \n",
    "ANSWER: \n",
    "The four regimes of random networks, as a function of the average degree ‹k›, are:\n",
    "- Subcritical (‹k› < 1): The network is broken into many small clusters, with no giant component.\n",
    "- Critical (‹k› = 1): A phase transition takes place; the largest cluster grows to about N^(2/3) but still represents only a small fraction of the network.\n",
    "- Supercritical (‹k› > 1): A giant component forms and containing a finite share of the nodes, while smaller isolated clusters remain.\n",
    "- Connected (‹k› ≳ lnN): The giant component includes almost all nodes, which makes the network fully connected\n"
   ]
  },
  {
   "cell_type": "code",
   "execution_count": null,
   "id": "58acd92d-f852-481a-958d-9029639146ee",
   "metadata": {},
   "outputs": [],
   "source": [
    "#=== Exercises: Did you really read the text?===#\n",
    "\n",
    "# 3) According to the book, why is it a problem for random networks (in terms of being a model for real-world networks) \n",
    "# that the degree-dependent clustering  decreases as a function of  in real-world networks?\n",
    "\n",
    "ANSWER: \n",
    "The problem is that random networks predict clustering to be the same for all nodes, \n",
    "regardless of degree, whereas in real networks clustering decreases as degree increases. \n",
    "The missing degree–clustering relationship means random networks cannot reproduce the hierarchical and community structures \n",
    "that exist in real systems. For example, studies of the Internet, science collaboration networks, and protein interaction networks show that high-degree nodes (hubs) have much lower clustering\n",
    "than low-degree nodes, a pattern completely absent in random networks.\n"
   ]
  },
  {
   "cell_type": "code",
   "execution_count": 11,
   "id": "c379d402-f979-4103-b9c0-f3b34d3768d2",
   "metadata": {},
   "outputs": [
    {
     "name": "stdout",
     "output_type": "stream",
     "text": [
      "p=0: <d> = 62.876\n",
      "p=0.1: <d> = 7.912\n",
      "p=1: <d> = 4.762\n"
     ]
    }
   ],
   "source": [
    "#===Exercises: WS edition===#\n",
    "\n",
    "# 1) Use nx.watts_strogatz_graph to generate 3 graphs with 500 nodes each with average degree = 4, and rewiring probablity p =0,01 and 1.\n",
    "# Calculate the average shortest path length <d> for each one.\n",
    "\n",
    "import networkx as nx\n",
    "import numpy as np\n",
    "\n",
    "# Parameters\n",
    "N = 500\n",
    "k = 4\n",
    "ps = [0, 0.1, 1]\n",
    "\n",
    "for p in ps:\n",
    "  G = nx.watts_strogatz_graph(N, k, p)\n",
    "  avg_shortest_path = nx.average_shortest_path_length(G)\n",
    "  print(f\"p={p}: <d> = {avg_shortest_path:.3f}\")\n"
   ]
  },
  {
   "cell_type": "code",
   "execution_count": null,
   "id": "42e39707-220f-4dd5-b92c-b7ccd6c484ed",
   "metadata": {},
   "outputs": [],
   "source": [
    "#===Exercises: WS edition===#\n",
    "# 2) Describe what happens to the network when p=1 .\n",
    "\n",
    "ANSWER:  \n",
    "For p=1,the network becomes fully randomized, and the paths are even shorter (⟨d⟩≈4.8).\n",
    "When p=1, all edges in the Watts–Strogatz model are rewired randomly, which destroys the regular lattice structure and produces a network that behaves like an Erdős–Rényi random graph. \n",
    "In this regime, the average shortest path length is very small, scaling on the order of log(N), \n",
    "while the clustering coefficient is low because local connections are no longer preserved. \n"
   ]
  },
  {
   "cell_type": "code",
   "execution_count": 14,
   "id": "766c14b2-1bc7-4a67-be04-86c4e0d6489e",
   "metadata": {},
   "outputs": [
    {
     "name": "stdout",
     "output_type": "stream",
     "text": [
      "p=0: <d> ≈ 62.876\n",
      "p=0.01: <d> ≈ 24.141\n",
      "p=0.03: <d> ≈ 13.123\n",
      "p=0.05: <d> ≈ 10.189\n",
      "p=0.6: <d> ≈ 4.872\n",
      "p=0.1: <d> ≈ 7.657\n",
      "p=0.2: <d> ≈ 6.106\n",
      "p=1: <d> ≈ 4.762\n"
     ]
    }
   ],
   "source": [
    "#===Exercises: WS edition===#\n",
    "\n",
    "# 3) Generate a lot of networks with different values of p.\n",
    "# You will notice that paths are short when p=0 is close to one and they are long when p. \n",
    "# What's the value of p for which the average shortest path length gets close to the short paths we find in a fully randomized network.\n",
    "\n",
    "import networkx as nx\n",
    "import numpy as np\n",
    "\n",
    "\n",
    "# Parameters\n",
    "N = 500\n",
    "k = 4\n",
    "p_values = [0, 0.01, 0.03, 0.05,0.6, 0.1, 0.2, 1]\n",
    "\n",
    "results = []\n",
    "\n",
    "for p in p_values:\n",
    "    path_lengths = []\n",
    "    for _ in range(20):  \n",
    "        G = nx.watts_strogatz_graph(N, k, p)\n",
    "        avg_len = nx.average_shortest_path_length(G)\n",
    "        path_lengths.append(avg_len)\n",
    "    mean_d = np.mean(path_lengths)\n",
    "    results.append((p, mean_d))\n",
    "    print(f\"p={p}: <d> ≈ {mean_d:.3f}\")\n",
    "\n",
    "# ANSWER:\n",
    "# The results show that the average shortest path length decreases very rapidly as p increases from zero. By p≈0.05–0.1,\n",
    "# the distances are already close to those observed in the fully randomized case (p=1), where ⟨d⟩ stabilizes around 4–5. Larger values of \n",
    "# p such as 0.6 or 1 do not change the distance significantly, since the network has reached the random-graph limit (⟨d⟩∼logN)."
   ]
  },
  {
   "cell_type": "code",
   "execution_count": 19,
   "id": "fa0a63bf-f150-4da4-bd7c-dd347d6fe95e",
   "metadata": {},
   "outputs": [
    {
     "name": "stdout",
     "output_type": "stream",
     "text": [
      "p=0: mean <d> ≈ 62.876, std ≈ 0.000\n",
      "p=0.01: mean <d> ≈ 24.355, std ≈ 4.404\n",
      "p=0.03: mean <d> ≈ 12.888, std ≈ 1.476\n",
      "p=0.05: mean <d> ≈ 10.121, std ≈ 0.764\n",
      "p=0.1: mean <d> ≈ 7.677, std ≈ 0.228\n",
      "p=0.2: mean <d> ≈ 6.121, std ≈ 0.119\n"
     ]
    },
    {
     "data": {
      "image/png": "[encoded data removed]",
      "text/plain": [
       "<Figure size 640x480 with 1 Axes>"
      ]
     },
     "metadata": {},
     "output_type": "display_data"
    }
   ],
   "source": [
    "#===Exercises: WS edition===#\n",
    "# 4) Generate 50 networks with N=500 nodes and average degree ⟨k⟩=4. For each value of p∈{0,0.01,0.03,0.05,0.1,0.2}, \n",
    "# Calculate the average of as well as the standard deviation over the 50 networks, to create a plot that shows how the\n",
    "# path length decreases very quickly with only a little fraction of re-wiring. \n",
    "\n",
    "import networkx as nx\n",
    "import numpy as np\n",
    "import matplotlib.pyplot as plt\n",
    "\n",
    "# Parameters\n",
    "N = 500\n",
    "k = 4\n",
    "p_values = [0, 0.01, 0.03, 0.05, 0.1, 0.2]\n",
    "num_networks = 50\n",
    "\n",
    "results = []\n",
    "\n",
    "for p in p_values:\n",
    "    d_values = []\n",
    "    for _ in range(num_networks):\n",
    "        G = nx.watts_strogatz_graph(N, k, p)\n",
    "        avg_d = nx.average_shortest_path_length(G)\n",
    "        d_values.append(avg_d)\n",
    "    mean_d = np.mean(d_values)\n",
    "    std_d = np.std(d_values)\n",
    "    results.append((p, mean_d, std_d))\n",
    "    print(f\"p={p}: mean <d> ≈ {mean_d:.3f}, std ≈ {std_d:.3f}\")\n",
    "\n",
    "# Extract results\n",
    "p_list = [r[0] for r in results]\n",
    "mean_list = [r[1] for r in results]\n",
    "std_list = [r[2] for r in results]\n",
    "\n",
    "# Plot with errorbar\n",
    "plt.errorbar(p_list, mean_list, yerr=std_list, fmt='o-', capsize=5, color='black', ecolor='black', markerfacecolor='black')\n",
    "plt.xlabel(\"Rewiring probability p\")\n",
    "plt.ylabel(\"Average shortest path length ⟨d⟩\")\n",
    "plt.title(\"Average shortest path length as a function of rewiring probability p\")\n",
    "plt.grid(True)\n",
    "plt.show()\n"
   ]
  },
  {
   "cell_type": "code",
   "execution_count": null,
   "id": "28ef99ca-4a01-4fd0-affb-898d69b8381b",
   "metadata": {},
   "outputs": [],
   "source": [
    "#===Exercises: WS edition===#\n",
    "# 5) Write a figure caption that explains to the reader what the plot shows (which variables, etc) and what's interesting about it.\n",
    "\n",
    "The plot shows the average shortest path length ⟨d⟩ as a function of the rewiring probability p in the Watts–Strogatz model with \n",
    "N=500 nodes and average degree ⟨k⟩=4. For each value of p∈{0,0.01,0.03,0.05,0.1,0.2}, 50 independent network realizations were generated. \n",
    "The black circles indicate the mean value of ⟨d⟩, while the vertical error bars represent the standard deviation across the 50 networks.\n",
    "The results show that in the regular lattice (p=0) the average path length is very large, but it decreases sharply as soon as a small fraction of edges are rewired \n",
    "(p=0.01–0.05). Beyond p≈0.1. The average path length is already close to the random-graph limit, and further rewiring does not reduce distances significantly.\n",
    "This illustrates the small-world effect; only a small amount of randomness is required to drastically shorten global distances while maintaining some local clustering."
   ]
  },
  {
   "cell_type": "code",
   "execution_count": null,
   "id": "1dfb4102-8fd0-411f-928b-2e92ad700b0f",
   "metadata": {},
   "outputs": [],
   "source": [
    "#Assignment 1.2\n",
    "# Part 2"
   ]
  }
 ],
 "metadata": {
  "kernelspec": {
   "display_name": "Python [conda env:base] *",
   "language": "python",
   "name": "conda-base-py"
  },
  "language_info": {
   "codemirror_mode": {
    "name": "ipython",
    "version": 3
   },
   "file_extension": ".py",
   "mimetype": "text/x-python",
   "name": "python",
   "nbconvert_exporter": "python",
   "pygments_lexer": "ipython3",
   "version": "3.12.7"
  }
 },
 "nbformat": 4,
 "nbformat_minor": 5
}
